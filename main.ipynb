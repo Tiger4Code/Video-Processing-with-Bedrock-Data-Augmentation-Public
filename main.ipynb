{
 "cells": [
  {
   "cell_type": "markdown",
   "id": "f8c367b1-d454-4690-ad8b-661a2c48e130",
   "metadata": {},
   "source": [
    "# Custom Insights with Blueprints"
   ]
  },
  {
   "cell_type": "markdown",
   "id": "b9cb9b12-76ad-43e9-a79d-39c110ddb7f6",
   "metadata": {},
   "source": [
    "## Introduction\n",
    "\n",
    "In addition to the `Standard Output` Amazon Bedrock Data Automation (BDA) offers the `Custom Output` feature which lets you define the target structure for information which you want to extract or generate from videos. This capability is particularly useful when working with specialized, or diverse videos (meetings, tutorials, keynotes, ...).\n",
    "\n",
    "You can configure custom output in BDA by using `Blueprints`. `Blueprints` are essentially a lists of instructions and types that guide the extraction or generation of information based on your videos. This feature works in conjunction with BDA projects, enabling the processing of videos. \n",
    "\n",
    "Custom outputs provide users with greater control and flexibility to derive structured information from their videos towards particular use cases or flows."
   ]
  },
  {
   "cell_type": "markdown",
   "id": "fd07a54e-6c15-49d7-9bc7-3fc1a9d249c6",
   "metadata": {},
   "source": [
    "### Blueprints"
   ]
  },
  {
   "cell_type": "markdown",
   "id": "02c02314-d6f1-462a-af04-9c1b5af5163b",
   "metadata": {},
   "source": [
    "You can use blueprints to configure video processing business logic in Amazon Bedrock Data Automation (BDA). Each blueprint consists of a list of field names to extract, the desired data format for each field (e.g., string, number, boolean), and natural language context for data normalization and validation rules. \n",
    "\n",
    "The main fields for creating blueprint are:\n",
    "\n",
    "```python\n",
    "response = client.create_blueprint(\n",
    "    blueprintName='string',\n",
    "    type='VIDEO',\n",
    "    blueprintStage='DEVELOPMENT'|'LIVE',\n",
    "    schema='string', # Schema of the blueprint (fields, groups, tables, etc.)\n",
    ")\n",
    "```\n",
    "\n",
    "BDA has ready-to-use blueprints (`Catalog Blueprints`) for a number of commonly used videos types such keynotes, and advertising videos. Catalog blueprints are a great way to start if the document you want to extract from matches the blueprint. To extract from documents that are not matched by blueprints in the catalog you can create your own blueprints. When creating the blueprint using the AWS Console, you have the option to let BDA generate blueprint after providing a sample document and an optional prompt. You can also create the blueprint by adding individual fields or by using a JSON editor to define the JSON for the blueprint.\n",
    "\n",
    "In this notebook, we will explore custom output using blueprints and data automation projects."
   ]
  },
  {
   "cell_type": "markdown",
   "id": "413716ac-5427-4fc7-93a9-588904e315de",
   "metadata": {},
   "source": [
    "### Data Projects\n",
    "\n",
    "Data projects in Amazon Bedrock data automation (BDA) provide an easy way of grouping your standard and customt output configuration for processing files. You can create a BDA project and use the ARN of the project to call the `InvokeDataAutomationAsync` API. BDA processes the input file automatically using the configuration settings defined in that project. Output is then generated based on the project's configuration. You can use a single project resource for multiple file types. You can also configure a project with Blueprints to define custom output. \n",
    "\n",
    "When processing documents, you might want to use multiple blueprints for different kinds of documents that are passed to your project. BDA automatically matches your documents to the appropriate blueprint that's configured in your project, and generates custom output using that blueprint\n",
    "\n",
    "You can also configure a project with Blueprints for documents (or images), to define custom output. In this notebook, we will explore the capability of using project with blueprints for processing documents. We will start with creating a project and associate with multiple blueprints based on kind of documents we expect to process.  We will process a file with a number of different document types and explore how BDA matched the document types in the file to appropriate blueprint and use that to to extract insights from the document."
   ]
  },
  {
   "cell_type": "markdown",
   "id": "f2d0d9d9-cf99-4c6e-9a25-4a6473e28cdc",
   "metadata": {},
   "source": [
    "You can configure custom output for documents by adding a new blueprint (or a pre-existing blueprint from BDA global catalog) to the BDA project. If your use case has different kinds of documents then you can use  multiple blueprints for the different document types within the project.\n",
    "\n",
    "**Note: A project chan have up to 40 document blueprints attached.**\n",
    "\n",
    "When you attach multiple blueprints with a project, BDA would automatically find an appropriate blueprint matching using the input document. Once a matching blueprint is found, BDA generates custom output using that blueprint.\n",
    "\n",
    "Let's go through the steps to creating a project and attaching a set of blueprints to process different file types."
   ]
  },
  {
   "cell_type": "markdown",
   "id": "32087d8d-bdec-4f2d-a6be-3eac9b1b9f8c",
   "metadata": {},
   "source": [
    "## Setup"
   ]
  },
  {
   "cell_type": "code",
   "execution_count": 3,
   "id": "b201923b-d528-4134-9008-8bb66fc0ee8f",
   "metadata": {
    "execution": {
     "iopub.execute_input": "2025-07-20T02:01:23.410694Z",
     "iopub.status.busy": "2025-07-20T02:01:23.410346Z",
     "iopub.status.idle": "2025-07-20T02:01:24.661403Z",
     "shell.execute_reply": "2025-07-20T02:01:24.660576Z",
     "shell.execute_reply.started": "2025-07-20T02:01:23.410669Z"
    },
    "scrolled": true
   },
   "outputs": [
    {
     "name": "stdout",
     "output_type": "stream",
     "text": [
      "Note: you may need to restart the kernel to use updated packages.\n"
     ]
    }
   ],
   "source": [
    "%pip install --no-warn-conflicts \"boto3>=1.37.6\" itables==2.2.4 PyPDF2==3.0.1 --upgrade -qq"
   ]
  },
  {
   "cell_type": "code",
   "execution_count": 4,
   "id": "5cb7192d-210d-4be7-9420-7830cf6c6a9c",
   "metadata": {
    "editable": true,
    "execution": {
     "iopub.execute_input": "2025-07-20T02:01:25.845354Z",
     "iopub.status.busy": "2025-07-20T02:01:25.844964Z",
     "iopub.status.idle": "2025-07-20T02:01:25.864460Z",
     "shell.execute_reply": "2025-07-20T02:01:25.863638Z",
     "shell.execute_reply.started": "2025-07-20T02:01:25.845323Z"
    },
    "slideshow": {
     "slide_type": ""
    },
    "tags": []
   },
   "outputs": [],
   "source": [
    "%load_ext autoreload\n",
    "%autoreload 1"
   ]
  },
  {
   "cell_type": "markdown",
   "id": "4329ac90-4bd3-486b-ac34-1df59e4f1fd0",
   "metadata": {},
   "source": [
    "Before we get to the part where we invoke BDA with our sample artifacts, let's setup some parameters and configuration that will be used throughout this notebook."
   ]
  },
  {
   "cell_type": "code",
   "execution_count": null,
   "id": "0f8e919b",
   "metadata": {},
   "outputs": [],
   "source": [
    "import boto3\n",
    "import json\n",
    "from IPython.display import JSON, IFrame, HTML\n",
    "import sagemaker\n",
    "import pandas as pd\n",
    "from utils import display_functions, helper_functions\n",
    "from pathlib import Path\n",
    "import os\n",
    "\n",
    "session = sagemaker.Session()\n",
    "default_bucket = session.default_bucket()\n",
    "current_region = boto3.session.Session().region_name\n",
    "\n",
    "sts_client = boto3.client('sts')\n",
    "account_id = sts_client.get_caller_identity()['Account']\n",
    "\n",
    "# Initialize Bedrock Data Automation client\n",
    "bda_client = boto3.client('bedrock-data-automation')\n",
    "bda_runtime_client = boto3.client('bedrock-data-automation-runtime')\n",
    "s3_client = boto3.client('s3')\n",
    "\n",
    "bda_s3_input_location = f's3://{default_bucket}/bda/input'\n",
    "bda_s3_output_location = f's3://{default_bucket}/bda/output'"
   ]
  },
  {
   "cell_type": "markdown",
   "id": "e25ba404-f3db-4152-8ed8-23555a3a5121",
   "metadata": {
    "editable": true,
    "slideshow": {
     "slide_type": ""
    },
    "tags": []
   },
   "source": [
    "## Prepare sample document\n",
    "\n",
    "For this lab, we use a sample `Medical Claim` pack. The pack contains multiple classes of document supporting the claim. We will upload the sample file to S3 and use a combination of catalog and custom blueprints to extract the contents of each document class."
   ]
  },
  {
   "cell_type": "code",
   "execution_count": null,
   "id": "0aecf5d7-b937-47d8-91fd-c9a0154f2ec1",
   "metadata": {
    "editable": true,
    "execution": {
     "iopub.execute_input": "2025-07-20T02:01:36.553439Z",
     "iopub.status.busy": "2025-07-20T02:01:36.553035Z",
     "iopub.status.idle": "2025-07-20T02:01:36.749979Z",
     "shell.execute_reply": "2025-07-20T02:01:36.749199Z",
     "shell.execute_reply.started": "2025-07-20T02:01:36.553415Z"
    },
    "slideshow": {
     "slide_type": ""
    },
    "tags": []
   },
   "outputs": [],
   "source": [
    "local_download_path = 'video'\n",
    "local_file_name = 'test.mp4'\n",
    "local_file_path = os.path.join(local_download_path, local_file_name)\n",
    "#(bucket, key) = utils.get_bucket_and_key(document_url)\n",
    "#response = s3_client.download_file(bucket, key, local_file_path)\n",
    "\n",
    "document_s3_uri = f'{bda_s3_input_location}/{local_file_name}'\n",
    "\n",
    "target_s3_bucket, target_s3_key =  helper_functions.get_bucket_and_key(document_s3_uri)\n",
    "s3_client.upload_file(local_file_path, target_s3_bucket, target_s3_key)\n",
    "\n",
    "print(f\"Downloaded file to: {local_file_path}\")\n",
    "print(f\"Uploaded file to S3: {target_s3_key}\")\n",
    "print(f\"document_s3_uri: {document_s3_uri}\")"
   ]
  },
  {
   "cell_type": "markdown",
   "id": "54482724-b3f0-4384-b3d8-ecff86baf21d",
   "metadata": {
    "editable": true,
    "slideshow": {
     "slide_type": ""
    },
    "tags": []
   },
   "source": [
    "### View Sample Document"
   ]
  },
  {
   "cell_type": "code",
   "execution_count": 3,
   "id": "c692db94-16ce-4a64-b450-995896103757",
   "metadata": {
    "editable": true,
    "execution": {
     "iopub.execute_input": "2025-07-20T02:01:40.248492Z",
     "iopub.status.busy": "2025-07-20T02:01:40.247821Z",
     "iopub.status.idle": "2025-07-20T02:01:40.254527Z",
     "shell.execute_reply": "2025-07-20T02:01:40.253825Z",
     "shell.execute_reply.started": "2025-07-20T02:01:40.248465Z"
    },
    "slideshow": {
     "slide_type": ""
    },
    "tags": []
   },
   "outputs": [
    {
     "data": {
      "text/html": [
       "\n",
       "<video width=\"640\" height=\"480\" controls>\n",
       "  <source src=\"video/test.mp4\" type=\"video/mp4\">\n",
       "  Your browser does not support the video tag.\n",
       "</video>\n"
      ],
      "text/plain": [
       "<IPython.core.display.HTML object>"
      ]
     },
     "execution_count": 3,
     "metadata": {},
     "output_type": "execute_result"
    }
   ],
   "source": [
    "from IPython.display import HTML\n",
    "\n",
    "HTML(f\"\"\"\n",
    "<video width=\"640\" height=\"480\" controls>\n",
    "  <source src=\"{local_file_path}\" type=\"video/mp4\">\n",
    "  Your browser does not support the video tag.\n",
    "</video>\n",
    "\"\"\")\n"
   ]
  },
  {
   "cell_type": "markdown",
   "id": "8f537712-435c-461d-a137-ccafd70178c2",
   "metadata": {},
   "source": [
    "## Create custom blueprints and project"
   ]
  },
  {
   "cell_type": "markdown",
   "id": "5707548c-1a2b-46a3-9752-9f875ddd3893",
   "metadata": {},
   "source": [
    "Our sample file contains multiple document types. We would therefore use multiple blueprints to process the document. We will use some premade blueprint from the BDA blueprint global catalog. For other document types where we don't have an catalog blueprint, we would create a custom blueprint.\n",
    "\n",
    "We use the `create_blueprint` operation (or `update_blueprint` to update an existing blueprint) in the  `boto3` API to create/update the blueprint. Each blueprint that you create is an AWS resource with its own blueprint ID and ARN. "
   ]
  },
  {
   "cell_type": "code",
   "execution_count": null,
   "id": "1364d375-71b9-4ec9-b336-6c9770bf86bf",
   "metadata": {
    "editable": true,
    "execution": {
     "iopub.execute_input": "2025-07-20T02:01:43.735032Z",
     "iopub.status.busy": "2025-07-20T02:01:43.734745Z",
     "iopub.status.idle": "2025-07-20T02:01:43.738528Z",
     "shell.execute_reply": "2025-07-20T02:01:43.737695Z",
     "shell.execute_reply.started": "2025-07-20T02:01:43.735011Z"
    },
    "slideshow": {
     "slide_type": ""
    },
    "tags": []
   },
   "outputs": [],
   "source": [
    "# create blueprint using Boto3\n",
    "blueprints = [\n",
    "    {\n",
    "        \"name\": 'video-summarizer-standard-custom',\n",
    "        \"description\": 'Blueprint for comprehensive video analysis including visual extraction, sentiment analysis, topic categorization, transcript generation, and video summarization',\n",
    "        \"type\": 'VIDEO',\n",
    "        \"stage\": 'LIVE',\n",
    "        \"schema_path\": 'blueprints/video_summarizer.json'\n",
    "    }\n",
    "]\n"
   ]
  },
  {
   "cell_type": "code",
   "execution_count": 5,
   "id": "185c2db3-9274-49a1-9740-33ec77b1099c",
   "metadata": {
    "editable": true,
    "execution": {
     "iopub.execute_input": "2025-07-20T02:01:46.189408Z",
     "iopub.status.busy": "2025-07-20T02:01:46.188946Z",
     "iopub.status.idle": "2025-07-20T02:01:46.596086Z",
     "shell.execute_reply": "2025-07-20T02:01:46.595314Z",
     "shell.execute_reply.started": "2025-07-20T02:01:46.189385Z"
    },
    "slideshow": {
     "slide_type": ""
    },
    "tags": []
   },
   "outputs": [
    {
     "name": "stdout",
     "output_type": "stream",
     "text": [
      "No existing blueprint found with name=video-summarizer-standard-custom, creating custom blueprint\n"
     ]
    }
   ],
   "source": [
    "blueprint_arns = []\n",
    "for blueprint in blueprints:\n",
    "    with open(blueprint['schema_path']) as f:\n",
    "        blueprint_schema = json.load(f)\n",
    "        blueprint_arn = helper_functions.create_or_update_blueprint(\n",
    "            bda_client, \n",
    "            blueprint['name'], \n",
    "            blueprint['description'], \n",
    "            blueprint['type'],\n",
    "            blueprint['stage'],\n",
    "            blueprint_schema\n",
    "        )\n",
    "        blueprint_arns += [blueprint_arn]"
   ]
  },
  {
   "cell_type": "markdown",
   "id": "dfcbe699-7d8e-4091-bd47-625f2b231214",
   "metadata": {
    "editable": true,
    "slideshow": {
     "slide_type": ""
    },
    "tags": []
   },
   "source": [
    "The `update_data_automation_project` API takes a project name, description, stage (LIVE / DEVELOPMENT), the standard output configuration and a custom output configuration as input. We are only focussing on the custom output in this notebook, so we leave the standard output configuration as empty so BDA will use the defaults. Additionally, we use a custom configuration with the arn for the recommended blueprint."
   ]
  },
  {
   "cell_type": "markdown",
   "id": "56c44477-7b00-49dd-8f7c-075c81e930f1",
   "metadata": {},
   "source": [
    "Lets have a look how the schema of `data/blueprints//discharge_summary.json` looks like. You can inspect multiple properties of the output below to get a base understanding of how a schema is defined.\n"
   ]
  },
  {
   "cell_type": "code",
   "execution_count": null,
   "id": "3905f6fd-3e57-43f8-bc0c-fb44007050ed",
   "metadata": {
    "execution": {
     "iopub.execute_input": "2025-07-20T00:24:30.702983Z",
     "iopub.status.busy": "2025-07-20T00:24:30.702699Z",
     "iopub.status.idle": "2025-07-20T00:24:30.709065Z",
     "shell.execute_reply": "2025-07-20T00:24:30.708349Z",
     "shell.execute_reply.started": "2025-07-20T00:24:30.702960Z"
    }
   },
   "outputs": [
    {
     "data": {
      "application/json": {
       "$schema": "http://json-schema.org/draft-07/schema#",
       "class": "Video Summarizer",
       "definitions": {
        "Sentiment": {
         "properties": {
          "explanation": {
           "inferenceType": "inferred",
           "instruction": "Explain the sentiment based on voice tone and pace, word choice, and emotional cues or enthusiasm",
           "type": "string"
          },
          "rating": {
           "enum": [
            "Positive",
            "Neutral",
            "Negative"
           ],
           "inferenceType": "inferred",
           "instruction": "Rate the sentiment as Positive, Neutral, or Negative",
           "type": "string"
          }
         },
         "type": "object"
        },
        "Topic": {
         "properties": {
          "summary": {
           "inferenceType": "inferred",
           "instruction": "Short summary of the distinct discussion or topic",
           "type": "string"
          },
          "title": {
           "inferenceType": "inferred",
           "instruction": "Title of the distinct discussion or topic",
           "type": "string"
          }
         },
         "type": "object"
        },
        "VisualExtraction": {
         "properties": {
          "description": {
           "inferenceType": "explicit",
           "instruction": "Describe the visual content of the frame",
           "type": "string"
          },
          "image": {
           "inferenceType": "explicit",
           "instruction": "Extract the image or diagram from the frame",
           "type": "string"
          },
          "link": {
           "inferenceType": "explicit",
           "instruction": "Include a link or reference to the visual content",
           "type": "string"
          },
          "summary": {
           "inferenceType": "explicit",
           "instruction": "Summarize what the visual represents or explains",
           "type": "string"
          },
          "timestamp": {
           "inferenceType": "explicit",
           "instruction": "Timestamp of the frame in seconds",
           "type": "number"
          }
         },
         "type": "object"
        }
       },
       "description": "The video summarizer processes video content to extract visual elements, analyze sentiment, categorize topics, provide transcripts, and generate comprehensive summaries. It handles both visual and audio content analysis for comprehensive video understanding.",
       "properties": {
        "image_and_diagram_extraction": {
         "$ref": "#/definitions/VisualExtraction"
        },
        "sentiment_analysis": {
         "$ref": "#/definitions/Sentiment"
        },
        "topic_categorization": {
         "$ref": "#/definitions/Topic"
        },
        "transcript": {
         "inferenceType": "explicit",
         "instruction": "Provide a full, accurate transcript of the spoken content",
         "type": "string"
        },
        "video_summary": {
         "inferenceType": "inferred",
         "instruction": "Main topic of the video, key technical concepts or demonstrations, tools, technologies, or frameworks discussed, and a summary under 500 words",
         "type": "string"
        }
       },
       "type": "object"
      },
      "text/plain": [
       "<IPython.core.display.JSON object>"
      ]
     },
     "execution_count": 45,
     "metadata": {
      "application/json": {
       "expanded": false,
       "root": "root"
      }
     },
     "output_type": "execute_result"
    }
   ],
   "source": [
    "JSON(\"blueprints/video_summarizer.json\")"
   ]
  },
  {
   "cell_type": "code",
   "execution_count": 37,
   "id": "4c5974a8-37fb-47ef-8990-d44c2a846a34",
   "metadata": {
    "execution": {
     "iopub.execute_input": "2025-07-20T00:17:48.213645Z",
     "iopub.status.busy": "2025-07-20T00:17:48.212997Z",
     "iopub.status.idle": "2025-07-20T00:17:48.217020Z",
     "shell.execute_reply": "2025-07-20T00:17:48.216399Z",
     "shell.execute_reply.started": "2025-07-20T00:17:48.213614Z"
    }
   },
   "outputs": [],
   "source": [
    "#JSON(\"data/blueprints/discharge_summary.json\")"
   ]
  },
  {
   "cell_type": "markdown",
   "id": "77ac2fa8-fee2-4617-a5e3-57c4e52bdd55",
   "metadata": {
    "editable": true,
    "slideshow": {
     "slide_type": ""
    },
    "tags": []
   },
   "source": [
    "### Create data project to process multi page documents\n",
    "With custom blueprints created, we can now go ahead an create our data project. We add multiple blueprints to our data project to match the document types we would expect to file in the claim pack.\n",
    "\n",
    "In particular:\n",
    "\n",
    "* We add multiple existing blueprints from the catalogue, like us-driver-license.\n",
    "* We add each of the newly created custom blueprints.\n",
    "* Because our sample file contains multiple documents, we pass the `overrideConfiguration` to the api call, with `document splitter` enabled.  With this setting, BDA scans the file and splits it into individual documents based on the semantic context and provided blueprints. Those individual documents are then matched to the correct blueprint for processing."
   ]
  },
  {
   "cell_type": "code",
   "execution_count": null,
   "id": "f91df435-80d2-4143-b82c-85d590da5f67",
   "metadata": {
    "editable": true,
    "execution": {
     "iopub.execute_input": "2025-07-20T02:02:49.654456Z",
     "iopub.status.busy": "2025-07-20T02:02:49.654166Z",
     "iopub.status.idle": "2025-07-20T02:02:49.660727Z",
     "shell.execute_reply": "2025-07-20T02:02:49.660000Z",
     "shell.execute_reply.started": "2025-07-20T02:02:49.654435Z"
    },
    "slideshow": {
     "slide_type": ""
    },
    "tags": []
   },
   "outputs": [],
   "source": [
    "bda_project_name = 'video-summarizer-custom-output-only-blueprints'\n",
    "bda_project_stage = 'LIVE'\n",
    "\n",
    "# granularity [WORD, PAGE, LINE, DOCUMENT, ELEMENT]\n",
    "standard_output_configuration = {\n",
    "  \"audio\": {\n",
    "    \"extraction\": {\n",
    "      \"category\": {\n",
    "        \"state\": \"ENABLED\",\n",
    "        \"types\": ['AUDIO_CONTENT_MODERATION', 'TOPIC_CONTENT_MODERATION', 'TRANSCRIPT']\n",
    "      }\n",
    "    },\n",
    "    \"generativeField\": {\n",
    "      \"state\": \"ENABLED\",\n",
    "      \"types\": ['AUDIO_SUMMARY', 'TOPIC_SUMMARY', 'IAB']\n",
    "    }\n",
    "  },\n",
    "  \"image\": {\n",
    "    \"extraction\": {\n",
    "      \"category\": {\n",
    "        \"state\": \"ENABLED\",\n",
    "        \"types\": [\"CONTENT_MODERATION\",\"TEXT_DETECTION\"]\n",
    "      },\n",
    "      \"boundingBox\": {\"state\": \"ENABLED\"}\n",
    "    },\n",
    "    \"generativeField\": {\n",
    "      \"state\": \"ENABLED\",\n",
    "      \"types\": [\"IMAGE_SUMMARY\",\"IAB\"]\n",
    "    }\n",
    "  },\n",
    "}\n",
    "\n",
    "custom_output_configuration = {\n",
    "    \"blueprints\": []\n",
    "}\n",
    "custom_output_configuration['blueprints'] += [\n",
    "    {\n",
    "        'blueprintArn': blueprint_arn,\n",
    "        'blueprintStage': 'LIVE'\n",
    "    } for blueprint_arn in blueprint_arns\n",
    "]\n",
    "\n",
    "# override_configuration={'document': {'splitter': {'state': 'ENABLED'}}}\n",
    "JSON(custom_output_configuration[\"blueprints\"], root=\"Blueprint list\", expanded=True)"
   ]
  },
  {
   "cell_type": "code",
   "execution_count": null,
   "id": "c2184592-22f3-4ac4-8b3b-7c4b97a280cc",
   "metadata": {
    "execution": {
     "iopub.execute_input": "2025-07-20T02:02:50.472873Z",
     "iopub.status.busy": "2025-07-20T02:02:50.472600Z",
     "iopub.status.idle": "2025-07-20T02:02:50.802259Z",
     "shell.execute_reply": "2025-07-20T02:02:50.801486Z",
     "shell.execute_reply.started": "2025-07-20T02:02:50.472852Z"
    }
   },
   "outputs": [],
   "source": [
    "list_project_response = bda_client.list_data_automation_projects(\n",
    "    projectStageFilter=bda_project_stage)\n",
    "\n",
    "project = next((project for project in list_project_response['projects']\n",
    "               if project['projectName'] == bda_project_name), None)\n",
    "\n",
    "if not project:\n",
    "    response = bda_client.create_data_automation_project(\n",
    "        projectName=bda_project_name,\n",
    "        projectDescription='Video processing and summarization using custom blueprints for comprehensive analysis including visual extraction, sentiment analysis, topic categorization, and transcript generation',\n",
    "        projectStage=bda_project_stage,\n",
    "        standardOutputConfiguration=standard_output_configuration,\n",
    "        customOutputConfiguration=custom_output_configuration\n",
    "        #overrideConfiguration=override_configuration\n",
    "    )\n",
    "else:\n",
    "    response = bda_client.update_data_automation_project(\n",
    "        projectArn=project['projectArn'],\n",
    "        standardOutputConfiguration=standard_output_configuration,\n",
    "        customOutputConfiguration=custom_output_configuration \n",
    "        # overrideConfiguration=override_configuration\n",
    "    )\n",
    "\n",
    "project_arn = response['projectArn']"
   ]
  },
  {
   "cell_type": "markdown",
   "id": "9c33cd0b-486e-4d53-ae1f-b3d094db7120",
   "metadata": {},
   "source": [
    "### Wait for create/update data project operation completion"
   ]
  },
  {
   "cell_type": "code",
   "execution_count": 14,
   "id": "b66b0ac9-27c2-4cf7-ae1c-7b1c1e90eb62",
   "metadata": {
    "execution": {
     "iopub.execute_input": "2025-07-20T02:02:59.019197Z",
     "iopub.status.busy": "2025-07-20T02:02:59.018783Z",
     "iopub.status.idle": "2025-07-20T02:02:59.228780Z",
     "shell.execute_reply": "2025-07-20T02:02:59.228052Z",
     "shell.execute_reply.started": "2025-07-20T02:02:59.019162Z"
    }
   },
   "outputs": [
    {
     "name": "stdout",
     "output_type": "stream",
     "text": [
      "Operation completed successfully with status: COMPLETED\n"
     ]
    }
   ],
   "source": [
    "status_response = helper_functions.wait_for_completion(\n",
    "            client=bda_client,\n",
    "            get_status_function=bda_client.get_data_automation_project,\n",
    "            status_kwargs={'projectArn': project_arn},\n",
    "            completion_states=['COMPLETED'],\n",
    "            error_states=['FAILED'],\n",
    "            status_path_in_response='project.status',\n",
    "            max_iterations=15,\n",
    "            delay=30\n",
    ")"
   ]
  },
  {
   "cell_type": "markdown",
   "id": "e61d9c01-769d-4bf8-ba44-974f83860c14",
   "metadata": {},
   "source": [
    "## Invoke Data Automation Async\n",
    "With the data project configured, we can now invoke data automation for our sample document. When we submit the document for processing, BDA scans the file and splits it into individual documents based on contextand matches it against the list of blueprints provided."
   ]
  },
  {
   "cell_type": "code",
   "execution_count": null,
   "id": "bbc098b6-7f54-4a11-ab49-55772e3c5a06",
   "metadata": {
    "editable": true,
    "execution": {
     "iopub.execute_input": "2025-07-20T02:03:02.484298Z",
     "iopub.status.busy": "2025-07-20T02:03:02.483411Z",
     "iopub.status.idle": "2025-07-20T02:03:03.483092Z",
     "shell.execute_reply": "2025-07-20T02:03:03.482359Z",
     "shell.execute_reply.started": "2025-07-20T02:03:02.484236Z"
    },
    "slideshow": {
     "slide_type": ""
    },
    "tags": []
   },
   "outputs": [],
   "source": [
    "response = bda_runtime_client.invoke_data_automation_async(\n",
    "    inputConfiguration={\n",
    "        's3Uri': document_s3_uri\n",
    "    },\n",
    "    outputConfiguration={\n",
    "        's3Uri': bda_s3_output_location\n",
    "    },\n",
    "    dataAutomationConfiguration={\n",
    "        'dataAutomationProjectArn': project_arn,\n",
    "        'stage': 'LIVE'\n",
    "    }, \n",
    "    dataAutomationProfileArn = f'arn:aws:bedrock:{current_region}:{account_id}:data-automation-profile/us.data-automation-v1'\n",
    ")\n",
    "\n",
    "invocationArn = response['invocationArn']\n",
    "print(f'Invoked data automation job with invocation arn {invocationArn}')"
   ]
  },
  {
   "cell_type": "markdown",
   "id": "fc31dda3-2cbc-49bc-ad40-876deb62ee17",
   "metadata": {},
   "source": [
    "### Get Data Automation Status\n",
    "\n",
    "We can check the status and monitor the progress of the Invocation job using the `GetDataAutomationStatus`. This API takes the invocation arn we retrieved from the response to the `InvokeDataAutomationAsync` operation above.\n",
    "\n",
    "The invocation job status moves from `Created` to `InProgress` and finally to `Success` when the job completes successfully, along with the S3 location of the results. If the job encounters and error the final status is either `ServiceError` or `ClientError` with error details"
   ]
  },
  {
   "cell_type": "code",
   "execution_count": null,
   "id": "d2ced475-951a-4e30-9b87-c6e5e9eca474",
   "metadata": {
    "editable": true,
    "execution": {
     "iopub.execute_input": "2025-07-20T02:03:05.634741Z",
     "iopub.status.busy": "2025-07-20T02:03:05.633911Z",
     "iopub.status.idle": "2025-07-20T02:04:36.292811Z",
     "shell.execute_reply": "2025-07-20T02:04:36.292136Z",
     "shell.execute_reply.started": "2025-07-20T02:03:05.634698Z"
    },
    "slideshow": {
     "slide_type": ""
    },
    "tags": []
   },
   "outputs": [],
   "source": [
    "status_response = helper_functions.wait_for_completion(\n",
    "            client=bda_client,\n",
    "            get_status_function=bda_runtime_client.get_data_automation_status,\n",
    "            status_kwargs={'invocationArn': invocationArn},\n",
    "            completion_states=['Success'],\n",
    "            error_states=['ClientError', 'ServiceError'],\n",
    "            status_path_in_response='status',\n",
    "            max_iterations=15,\n",
    "            delay=30\n",
    ")\n",
    "if status_response['status'] == 'Success':\n",
    "    job_metadata_s3_location = status_response['outputConfiguration']['s3Uri']\n",
    "else:\n",
    "    raise Exception(f'Invocation Job Error, error_type={status_response[\"error_type\"]},error_message={status_response[\"error_message\"]}')"
   ]
  },
  {
   "cell_type": "markdown",
   "id": "7b8127dc-7bad-4852-a77c-3940f60d05aa",
   "metadata": {},
   "source": [
    "### View Job Metadata\n",
    "Let's retrieve the job metadata. The Job metadata contains the S3 uri's for the standard output,custom output and the status of custom output. The custom output status could be either of `MATCH` or `NO_MATCH`. `MATCH` indicates BDA was able to find a matching blueprint for the specific segment from the list of blueprint we associated with the project. If BDA was unable to match the segment to a blueprint associated with the project then the `custom output status` is `NO_MATCH` and in this case BDA would only have a standard output extracted from that specific segment of the input file."
   ]
  },
  {
   "cell_type": "code",
   "execution_count": null,
   "id": "21eaccd9-b44b-4b5a-bc01-ba5d13306344",
   "metadata": {
    "editable": true,
    "execution": {
     "iopub.execute_input": "2025-07-20T02:12:53.625459Z",
     "iopub.status.busy": "2025-07-20T02:12:53.625115Z",
     "iopub.status.idle": "2025-07-20T02:12:53.709089Z",
     "shell.execute_reply": "2025-07-20T02:12:53.708595Z",
     "shell.execute_reply.started": "2025-07-20T02:12:53.625435Z"
    },
    "slideshow": {
     "slide_type": ""
    },
    "tags": []
   },
   "outputs": [],
   "source": [
    "job_metadata = json.loads(helper_functions.read_s3_object(job_metadata_s3_location))\n",
    "\n",
    "job_metadata_table = pd.DataFrame(job_metadata['output_metadata'][0]['segment_metadata']).fillna('')\n",
    "job_metadata_table.index.name='Segment Index'\n",
    "job_metadata_json = JSON(job_metadata, root=\"job_metadata\", expanded=True)\n",
    "# Display the widget\n",
    "display_functions.display_multiple(\n",
    "    [display_functions.get_view(job_metadata_table), display_functions.get_view(job_metadata_json)], \n",
    "    [\"Table View\", \"Raw JSON\"])"
   ]
  },
  {
   "cell_type": "markdown",
   "id": "bc33e6c8-e96b-4bd3-8f51-ad8b9dfdfd7d",
   "metadata": {},
   "source": [
    "## Explore the Custom Insights"
   ]
  },
  {
   "cell_type": "markdown",
   "id": "25a7bb59-47f5-4a26-830c-68081af25407",
   "metadata": {},
   "source": [
    "### View Segments and Matched Blueprints\n",
    "As we can see in the `job metadata`, BDA creates a segment section each for each individual document that it has identified in the file. Each segment section has details on the matched blueprint and the results of the extraction. For each segment, BDA also outputs the page indices (one or more) from the original file.\n",
    "\n",
    "We can now get the custom output corresponding to each segment and look at the insights that BDA custom output produces."
   ]
  },
  {
   "cell_type": "code",
   "execution_count": 70,
   "id": "84b6f351-a7ae-49ea-8237-ca05d02f0e16",
   "metadata": {
    "editable": true,
    "execution": {
     "iopub.execute_input": "2025-07-20T00:47:21.796986Z",
     "iopub.status.busy": "2025-07-20T00:47:21.796479Z",
     "iopub.status.idle": "2025-07-20T00:47:21.893447Z",
     "shell.execute_reply": "2025-07-20T00:47:21.892819Z",
     "shell.execute_reply.started": "2025-07-20T00:47:21.796953Z"
    },
    "slideshow": {
     "slide_type": ""
    },
    "tags": []
   },
   "outputs": [],
   "source": [
    "asset_id = 0\n",
    "segments_metadata = next(item[\"segment_metadata\"]\n",
    "                                for item in job_metadata[\"output_metadata\"] \n",
    "                                if item['asset_id'] == asset_id)\n",
    "\n",
    "standard_outputs = [\n",
    "    json.loads(helper_functions.read_s3_object(segment_metadata.get('standard_output_path')))for segment_metadata in segments_metadata]\n",
    "custom_outputs = [json.loads(helper_functions.read_s3_object(segment_metadata.get('custom_output_path'))) if segment_metadata.get('custom_output_status') == 'MATCH' else None for segment_metadata in segments_metadata]\n"
   ]
  },
  {
   "cell_type": "markdown",
   "id": "5202bc53-1180-42db-bb91-34a6b662d8c0",
   "metadata": {},
   "source": [
    "### View Custom output summary"
   ]
  },
  {
   "cell_type": "code",
   "execution_count": null,
   "id": "042fc8dc-23a0-4ff9-85d0-4c2d1b65fd0f",
   "metadata": {
    "execution": {
     "iopub.execute_input": "2025-07-20T00:47:21.894816Z",
     "iopub.status.busy": "2025-07-20T00:47:21.894600Z",
     "iopub.status.idle": "2025-07-20T00:47:22.504400Z",
     "shell.execute_reply": "2025-07-20T00:47:22.503684Z",
     "shell.execute_reply.started": "2025-07-20T00:47:21.894797Z"
    }
   },
   "outputs": [],
   "source": [
    "custom_outputs_json = JSON(custom_outputs, root=\"custom_outputs\", expanded=False)\n",
    "custom_outputs_table = pd.DataFrame(helper_functions.get_summaries(custom_outputs)).fillna('')\n",
    "\n",
    "display_functions.display_multiple(\n",
    "    [\n",
    "        display_functions.get_view(custom_outputs_table.style.hide(axis='index')),\n",
    "        display_functions.get_view(custom_outputs_json)\n",
    "    ], \n",
    "    [\"Table View\", \"Raw JSON\"])"
   ]
  },
  {
   "cell_type": "markdown",
   "id": "e6a85bdf-05f9-4814-a301-995869cb5045",
   "metadata": {},
   "source": [
    "## Summary & Next Steps"
   ]
  },
  {
   "cell_type": "markdown",
   "id": "842f9b01-d6fa-4831-b876-0af436a8513c",
   "metadata": {},
   "source": [
    "In this lab we explored how we can leverage the versatility of blueprints along with data projects to extract customized output from multiple videos.\n",
    "\n",
    "Next step is to use BDA to extract insights from documents, and images."
   ]
  },
  {
   "cell_type": "markdown",
   "id": "b545aaa3-2223-4429-9a8c-fe3a9dfee7cc",
   "metadata": {
    "editable": true,
    "slideshow": {
     "slide_type": ""
    },
    "tags": []
   },
   "source": [
    "## Clean Up\n",
    "Let's delete uploaded sample file from s3 input directory and the generated job output files."
   ]
  },
  {
   "cell_type": "code",
   "execution_count": null,
   "id": "7ebefcf2-c020-41da-9770-35fe9cfdc9e4",
   "metadata": {
    "execution": {
     "iopub.execute_input": "2025-07-12T20:26:48.480404Z",
     "iopub.status.busy": "2025-07-12T20:26:48.479728Z",
     "iopub.status.idle": "2025-07-12T20:26:50.114270Z",
     "shell.execute_reply": "2025-07-12T20:26:50.113208Z",
     "shell.execute_reply.started": "2025-07-12T20:26:48.480374Z"
    }
   },
   "outputs": [],
   "source": [
    "# Delete S3 File\n",
    "s3_client.delete_object(Bucket=target_s3_bucket, Key=target_s3_key)\n",
    "\n",
    "# Delete bda job output\n",
    "bda_s3_job_location = str(Path(job_metadata_s3_location).parent).replace(\"s3:/\",\"s3://\")\n",
    "!aws s3 rm {bda_s3_job_location} --recursive"
   ]
  },
  {
   "cell_type": "code",
   "execution_count": 3,
   "id": "67cc46e4-3309-4326-96ea-ceaa6d87b29f",
   "metadata": {},
   "outputs": [],
   "source": [
    "# Noor Sabahi\n",
    "# Senior AI & Cloud Engineer | AWS Ambassador\n",
    "# June 20th, 2025 "
   ]
  },
  {
   "cell_type": "code",
   "execution_count": null,
   "id": "aff02e6d",
   "metadata": {},
   "outputs": [],
   "source": []
  }
 ],
 "metadata": {
  "kernelspec": {
   "display_name": "base",
   "language": "python",
   "name": "python3"
  },
  "language_info": {
   "codemirror_mode": {
    "name": "ipython",
    "version": 3
   },
   "file_extension": ".py",
   "mimetype": "text/x-python",
   "name": "python",
   "nbconvert_exporter": "python",
   "pygments_lexer": "ipython3",
   "version": "3.12.7"
  }
 },
 "nbformat": 4,
 "nbformat_minor": 5
}
